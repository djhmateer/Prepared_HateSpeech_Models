{
 "cells": [
  {
   "cell_type": "code",
   "execution_count": 83,
   "metadata": {},
   "outputs": [
    {
     "name": "stderr",
     "output_type": "stream",
     "text": [
      "[nltk_data] Downloading package stopwords to\n",
      "[nltk_data]     C:\\Users\\SmaRt\\AppData\\Roaming\\nltk_data...\n",
      "[nltk_data]   Package stopwords is already up-to-date!\n",
      "[nltk_data] Downloading package wordnet to\n",
      "[nltk_data]     C:\\Users\\SmaRt\\AppData\\Roaming\\nltk_data...\n",
      "[nltk_data]   Package wordnet is already up-to-date!\n",
      "[nltk_data] Downloading package punkt to\n",
      "[nltk_data]     C:\\Users\\SmaRt\\AppData\\Roaming\\nltk_data...\n",
      "[nltk_data]   Package punkt is already up-to-date!\n"
     ]
    },
    {
     "data": {
      "text/plain": [
       "True"
      ]
     },
     "execution_count": 83,
     "metadata": {},
     "output_type": "execute_result"
    }
   ],
   "source": [
    "import numpy as np\n",
    "import pickle\n",
    "import nltk\n",
    "import pandas as pd\n",
    "\n",
    "from keras.models import load_model\n",
    "\n",
    "from sklearn.metrics import classification_report\n",
    "from sklearn.metrics import confusion_matrix\n",
    "\n",
    "from SupportClasses import CleanData\n",
    "\n",
    "nltk.download('stopwords')\n",
    "nltk.download('wordnet')\n",
    "nltk.download('punkt')"
   ]
  },
  {
   "cell_type": "code",
   "execution_count": 84,
   "metadata": {},
   "outputs": [
    {
     "name": "stdout",
     "output_type": "stream",
     "text": [
      "     Unnamed: 0                                               Text  label\n",
      "0           707            get fucked racist inbred hillbilly fuck      0\n",
      "1          2589     lmao lebron expression say nigga fuckin faggot      0\n",
      "2           748  know ultimate warrior died god love fag anti g...      0\n",
      "3          1392  oh pain med made brain fuzzy though banjo kazo...      1\n",
      "4          2058  okay cool one mine black fuzzy pink back spark...      1\n",
      "..          ...                                                ...    ...\n",
      "287        2152                                    craving brownie      1\n",
      "288         781              want represent da life da colored man      1\n",
      "289        1115  went gold cruz sound upper lower body strength...      1\n",
      "290        2027  man bitch gon na damn thang u like got say unf...      0\n",
      "291         131  yes da def da problem teacher spear chucker wo...      1\n",
      "\n",
      "[292 rows x 3 columns]\n"
     ]
    }
   ],
   "source": [
    "#1 sample\n",
    "Sample = \"@StarIsTheFuture you call @GOPBlackChick house nigger and she's the racist? Fathom the hypocrisy in that statement.\"\n",
    "dfsample = pd.DataFrame(data={'Text':[Sample]})\n",
    "\n",
    "#2 sample\n",
    "Sample2 = '12 &^£ Welcome to the UK44'\n",
    "dfsample2 = pd.DataFrame(data={'Text':[Sample2]})\n",
    "\n",
    "#many samples\n",
    "filename = 'TESTfile.csv'\n",
    "df = pd.read_csv(filename, encoding='latin-1')\n",
    "#df=df.rename(columns = {'Tweet':'Text'})  #Change text column into Text\n",
    "#df=df.rename(columns = {'class':'label'})  #Change text column into label\n",
    "print(df)"
   ]
  },
  {
   "cell_type": "code",
   "execution_count": 85,
   "metadata": {},
   "outputs": [
    {
     "name": "stdout",
     "output_type": "stream",
     "text": [
      "All Models Loaded\n"
     ]
    }
   ],
   "source": [
    "#load tfidf\n",
    "vectorizer = pickle.load(open(\"vectorizer_Davidson_hatespeech_twitter_data_2classes.pickle\", 'rb'))\n",
    "#load selected features\n",
    "selectF = pickle.load(open(\"select_T.pickle\", 'rb'))\n",
    "#load SVM model\n",
    "ML_model = pickle.load(open(\"Davidson_hatespeech_twitter_data_2classes_SVM_TFIDF.sav\", 'rb'))\n",
    "#Load CNN model\n",
    "DL_model = load_model('Davidson_hatespeech_twitter_data_2classes_CNN_TFIDF.h5')\n",
    "\n",
    "print('All Models Loaded')"
   ]
  },
  {
   "cell_type": "code",
   "execution_count": 86,
   "metadata": {},
   "outputs": [
    {
     "name": "stdout",
     "output_type": "stream",
     "text": [
      "                                                Text  \\\n",
      "0  @StarIsTheFuture you call @GOPBlackChick house...   \n",
      "\n",
      "                                         cleanedText  \n",
      "0  call house nigger racist fathom hypocrisy stat...  \n",
      "-----\n",
      "                         Text cleanedText\n",
      "0  12 &^£ Welcome to the UK44  welcome uk\n"
     ]
    }
   ],
   "source": [
    "#clean/process 1 sample\n",
    "dfsample['cleanedText']=CleanData.cleanAllSample(dfsample['Text'])\n",
    "print(dfsample)\n",
    "print('-----')\n",
    "dfsample2['cleanedText']=CleanData.cleanAllSample(dfsample2['Text'])\n",
    "print(dfsample2)"
   ]
  },
  {
   "cell_type": "code",
   "execution_count": 87,
   "metadata": {},
   "outputs": [
    {
     "name": "stdout",
     "output_type": "stream",
     "text": [
      "0                get fucked racist inbred hillbilly fuck\n",
      "1         lmao lebron expression say nigga fuckin faggot\n",
      "2      know ultimate warrior died god love fag anti g...\n",
      "3      oh pain med made brain fuzzy though banjo kazo...\n",
      "4      okay cool one mine black fuzzy pink back spark...\n",
      "                             ...                        \n",
      "287                                      craving brownie\n",
      "288                want represent da life da colored man\n",
      "289    went gold cruz sound upper lower body strength...\n",
      "290    man bitch gon na damn thang u like got say unf...\n",
      "291    yes da def da problem teacher spear chucker wo...\n",
      "Name: cleanedText, Length: 292, dtype: object\n"
     ]
    }
   ],
   "source": [
    "#clean/process many samples\n",
    "df['cleanedText']=CleanData.cleanAllSample(df['Text'])\n",
    "print(df['cleanedText'])"
   ]
  },
  {
   "cell_type": "code",
   "execution_count": 88,
   "metadata": {},
   "outputs": [
    {
     "name": "stdout",
     "output_type": "stream",
     "text": [
      "[0]\n",
      "[[0]]\n"
     ]
    }
   ],
   "source": [
    "tfidf = vectorizer.transform(dfsample['cleanedText']).toarray()\n",
    "Mft = np.concatenate([tfidf],axis=1)\n",
    "X = selectF.transform(Mft)\n",
    "y_preds = ML_model.predict(X)\n",
    "print(y_preds)\n",
    "y_preds = DL_model.predict_classes(X)\n",
    "print(y_preds)"
   ]
  },
  {
   "cell_type": "code",
   "execution_count": 91,
   "metadata": {},
   "outputs": [
    {
     "name": "stdout",
     "output_type": "stream",
     "text": [
      "[1]\n",
      "[[1]]\n"
     ]
    }
   ],
   "source": [
    "tfidf = vectorizer.transform(dfsample2['cleanedText']).toarray()\n",
    "Mft = np.concatenate([tfidf],axis=1)\n",
    "X = selectF.transform(Mft)\n",
    "y_preds = ML_model.predict(X)\n",
    "print(y_preds)\n",
    "y_preds = DL_model.predict_classes(X)\n",
    "print(y_preds)"
   ]
  },
  {
   "cell_type": "code",
   "execution_count": 92,
   "metadata": {},
   "outputs": [],
   "source": [
    "tfidf = vectorizer.transform(df['cleanedText']).toarray()\n",
    "Mft = np.concatenate([tfidf],axis=1)\n",
    "y = df['label']\n",
    "X = selectF.transform(Mft)"
   ]
  },
  {
   "cell_type": "code",
   "execution_count": 93,
   "metadata": {},
   "outputs": [
    {
     "name": "stdout",
     "output_type": "stream",
     "text": [
      "              precision    recall  f1-score   support\n",
      "\n",
      "           0       0.98      0.95      0.96       131\n",
      "           1       0.96      0.99      0.97       161\n",
      "\n",
      "    accuracy                           0.97       292\n",
      "   macro avg       0.97      0.97      0.97       292\n",
      "weighted avg       0.97      0.97      0.97       292\n",
      "\n",
      "[[124   7]\n",
      " [  2 159]]\n"
     ]
    }
   ],
   "source": [
    "y_preds = ML_model.predict(X)\n",
    "report = classification_report( y, y_preds )\n",
    "print(report)\n",
    "print(confusion_matrix(y, y_preds))"
   ]
  },
  {
   "cell_type": "code",
   "execution_count": 94,
   "metadata": {},
   "outputs": [
    {
     "name": "stdout",
     "output_type": "stream",
     "text": [
      "              precision    recall  f1-score   support\n",
      "\n",
      "           0       0.91      0.73      0.81       131\n",
      "           1       0.81      0.94      0.87       161\n",
      "\n",
      "    accuracy                           0.85       292\n",
      "   macro avg       0.86      0.84      0.84       292\n",
      "weighted avg       0.85      0.85      0.84       292\n",
      "\n",
      "[[ 96  35]\n",
      " [ 10 151]]\n"
     ]
    }
   ],
   "source": [
    "y_preds = DL_model.predict_classes(X)\n",
    "report = classification_report( y, y_preds )\n",
    "print(report)\n",
    "print(confusion_matrix(y, y_preds))   "
   ]
  },
  {
   "cell_type": "code",
   "execution_count": null,
   "metadata": {},
   "outputs": [],
   "source": []
  },
  {
   "cell_type": "code",
   "execution_count": null,
   "metadata": {},
   "outputs": [],
   "source": []
  },
  {
   "cell_type": "code",
   "execution_count": null,
   "metadata": {},
   "outputs": [],
   "source": []
  }
 ],
 "metadata": {
  "kernelspec": {
   "display_name": "Python 3",
   "language": "python",
   "name": "python3"
  },
  "language_info": {
   "codemirror_mode": {
    "name": "ipython",
    "version": 3
   },
   "file_extension": ".py",
   "mimetype": "text/x-python",
   "name": "python",
   "nbconvert_exporter": "python",
   "pygments_lexer": "ipython3",
   "version": "3.7.3"
  }
 },
 "nbformat": 4,
 "nbformat_minor": 2
}
